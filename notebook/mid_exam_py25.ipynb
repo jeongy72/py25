{
  "nbformat": 4,
  "nbformat_minor": 0,
  "metadata": {
    "colab": {
      "name": "mid_exam_py25.ipynb",
      "provenance": [],
      "collapsed_sections": [],
      "authorship_tag": "ABX9TyOmDBbfIPfK+fmT5Iq7xCRO",
      "include_colab_link": true
    },
    "kernelspec": {
      "name": "python3",
      "display_name": "Python 3"
    }
  },
  "cells": [
    {
      "cell_type": "markdown",
      "metadata": {
        "id": "view-in-github",
        "colab_type": "text"
      },
      "source": [
        "<a href=\"https://colab.research.google.com/github/jeongy72/py25/blob/master/notebook/mid_exam_py25.ipynb\" target=\"_parent\"><img src=\"https://colab.research.google.com/assets/colab-badge.svg\" alt=\"Open In Colab\"/></a>"
      ]
    },
    {
      "cell_type": "markdown",
      "metadata": {
        "id": "_1UamxC_dEA4",
        "colab_type": "text"
      },
      "source": [
        "## 파이썬 활용 중간고사 풀이"
      ]
    },
    {
      "cell_type": "markdown",
      "metadata": {
        "id": "b1E0u7uXdKSX",
        "colab_type": "text"
      },
      "source": [
        "### 문제1. 다음 식의 연산 결과는 ?"
      ]
    },
    {
      "cell_type": "code",
      "metadata": {
        "id": "oUFJU5YSc4ff",
        "colab_type": "code",
        "outputId": "30585856-df81-4f6a-9f26-5985ad8d75ca",
        "colab": {
          "base_uri": "https://localhost:8080/",
          "height": 34
        }
      },
      "source": [
        " a = 5   \n",
        " b = 3    \n",
        " print(a**b)    "
      ],
      "execution_count": 0,
      "outputs": [
        {
          "output_type": "stream",
          "text": [
            "125\n"
          ],
          "name": "stdout"
        }
      ]
    },
    {
      "cell_type": "markdown",
      "metadata": {
        "id": "vf43Zf9Oo4_5",
        "colab_type": "text"
      },
      "source": [
        "#### 문제풀이:\n",
        "** 연산자는 a의 b제곱을 나타내는 연산자 이므로 125라는 결과가 나옴."
      ]
    },
    {
      "cell_type": "markdown",
      "metadata": {
        "id": "LAfPQdkdoqEu",
        "colab_type": "text"
      },
      "source": [
        "### 문제2. 다음 문자열 a에 대하여 슬라이싱을 한 결과는 ?"
      ]
    },
    {
      "cell_type": "code",
      "metadata": {
        "id": "xydnV2QOn3-Y",
        "colab_type": "code",
        "outputId": "ecc45f36-691a-413d-9b69-0643bbb1687f",
        "colab": {
          "base_uri": "https://localhost:8080/",
          "height": 34
        }
      },
      "source": [
        "a = \"Life is too short,You need Python!\"\n",
        "a[-16:-8]"
      ],
      "execution_count": 0,
      "outputs": [
        {
          "output_type": "execute_result",
          "data": {
            "text/plain": [
              "'You need'"
            ]
          },
          "metadata": {
            "tags": []
          },
          "execution_count": 2
        }
      ]
    },
    {
      "cell_type": "markdown",
      "metadata": {
        "id": "OL4gwPbMpyrK",
        "colab_type": "text"
      },
      "source": [
        "#### 문제풀이:\n",
        "슬라이싱은 복잡하고 긴 문자열에서 원하는 부분만 뽑아낼 수 있는 기법이다.\n",
        "위 소스 코드에서 a[-16:-8]이 뜻하는 것은 a[-16]에서 [-9]까지를 말한다.마이너스가 붙었으니 뒤에서 부터 세면 'You need'라는 결과가 나옴."
      ]
    },
    {
      "cell_type": "markdown",
      "metadata": {
        "id": "0oCvqpBurnb1",
        "colab_type": "text"
      },
      "source": [
        "### 문제3. 다음 list a의 인덱싱 결과는 ?"
      ]
    },
    {
      "cell_type": "code",
      "metadata": {
        "id": "HLiBbpVDpwXK",
        "colab_type": "code",
        "outputId": "ceb02aa6-7bdf-4cb2-c4ce-8f2baaef594a",
        "colab": {
          "base_uri": "https://localhost:8080/",
          "height": 34
        }
      },
      "source": [
        "a = [1,2,(3,4),['a','b',['My','Life','Good']]]\n",
        "a[3][-1][0]"
      ],
      "execution_count": 0,
      "outputs": [
        {
          "output_type": "execute_result",
          "data": {
            "text/plain": [
              "'My'"
            ]
          },
          "metadata": {
            "tags": []
          },
          "execution_count": 3
        }
      ]
    },
    {
      "cell_type": "markdown",
      "metadata": {
        "id": "IyaCqXgqsY3I",
        "colab_type": "text"
      },
      "source": [
        "#### 문제풀이:\n",
        "인덱싱은 리스트에서 특정한 부분을 가르키는 것이다.\n",
        "파이썬은 0부터 시작한다. 그래서 세 번째 리스트인 ['My','Life','Good']에서 [0]인 'My'인 결과가 나옴."
      ]
    },
    {
      "cell_type": "markdown",
      "metadata": {
        "id": "QWC_UZE2uZU3",
        "colab_type": "text"
      },
      "source": [
        "### 문제4. 다음 tuple t1의 슬라이싱 결과는 ?"
      ]
    },
    {
      "cell_type": "code",
      "metadata": {
        "id": "6oS0oAGWsMCD",
        "colab_type": "code",
        "outputId": "7d410c76-7082-429b-b781-e42f2a112447",
        "colab": {
          "base_uri": "https://localhost:8080/",
          "height": 34
        }
      },
      "source": [
        "t1 = (0,1,\"s\",\"t\",\"u\")\n",
        "t1[2:-2]"
      ],
      "execution_count": 0,
      "outputs": [
        {
          "output_type": "execute_result",
          "data": {
            "text/plain": [
              "('s',)"
            ]
          },
          "metadata": {
            "tags": []
          },
          "execution_count": 4
        }
      ]
    },
    {
      "cell_type": "markdown",
      "metadata": {
        "id": "6dcWOh7Uu6fP",
        "colab_type": "text"
      },
      "source": [
        "#### 문제풀이:\n",
        "[2:-2]는 2부터 시작해서 -3까지니까 세보면 's'가 나온다. 하지만 튜플은 한 가지 요소만 있을 때는 반드시 ,가 붙기 때문에 ('s',)라는 결과가 나옴."
      ]
    },
    {
      "cell_type": "markdown",
      "metadata": {
        "id": "0avDPt0GwobL",
        "colab_type": "text"
      },
      "source": [
        "### 문제5. 다음 bool값 출력 중 정확한 것은 ?"
      ]
    },
    {
      "cell_type": "code",
      "metadata": {
        "id": "RrXfJe60uxRD",
        "colab_type": "code",
        "outputId": "2b047654-da88-4f7e-fbaa-576997009803",
        "colab": {
          "base_uri": "https://localhost:8080/",
          "height": 34
        }
      },
      "source": [
        "bool([0,1,2]), bool([0]), bool((0)), bool((0,))"
      ],
      "execution_count": 0,
      "outputs": [
        {
          "output_type": "execute_result",
          "data": {
            "text/plain": [
              "(True, True, False, True)"
            ]
          },
          "metadata": {
            "tags": []
          },
          "execution_count": 5
        }
      ]
    },
    {
      "cell_type": "markdown",
      "metadata": {
        "id": "yWWE2BuHxK3y",
        "colab_type": "text"
      },
      "source": [
        "#### 문제풀이:\n",
        "bool자료형은 True, False 값만 가질 수 있다. 튜플 구조는 요소 하나만 있어도 반드시 ,가 있어야 하기에 세번 째 bool만 False이고 나머지는 True로 결과값이 나옴."
      ]
    },
    {
      "cell_type": "markdown",
      "metadata": {
        "id": "3DIlVju7x--0",
        "colab_type": "text"
      },
      "source": [
        "### 문제6. 다음 조건문을 1줄 코드로 변경하시오."
      ]
    },
    {
      "cell_type": "code",
      "metadata": {
        "id": "NcVANPirxDbS",
        "colab_type": "code",
        "colab": {
          "base_uri": "https://localhost:8080/",
          "height": 34
        },
        "outputId": "e141ba60-ba4d-4cfb-d005-41fd7c2efa8d"
      },
      "source": [
        "score = 80\n",
        "if score >= 60:\n",
        "    message = \"success\"\n",
        "else:\n",
        "     message = \"failure\"\n",
        "print(score,message)"
      ],
      "execution_count": 5,
      "outputs": [
        {
          "output_type": "stream",
          "text": [
            "80 success\n"
          ],
          "name": "stdout"
        }
      ]
    },
    {
      "cell_type": "code",
      "metadata": {
        "id": "O3Dm4sMtESaU",
        "colab_type": "code",
        "colab": {
          "base_uri": "https://localhost:8080/",
          "height": 34
        },
        "outputId": "1b57bac7-7872-4da1-9e97-3dec789465d5"
      },
      "source": [
        "score = 80\n",
        "meesage = \"success\" if score >= 60 else \"failure\"\n",
        "print(score,message)"
      ],
      "execution_count": 6,
      "outputs": [
        {
          "output_type": "stream",
          "text": [
            "80 success\n"
          ],
          "name": "stdout"
        }
      ]
    },
    {
      "cell_type": "markdown",
      "metadata": {
        "id": "8d1eAJACErLB",
        "colab_type": "text"
      },
      "source": [
        "#### 문제풀이:\n",
        "위의 보기 코드는 조건문을 이용하여 만든 것이다. 한 줄로 코드를 변경하려면 위와 같이 단축코드를 이용하면 결과값이 같게 나옴. "
      ]
    },
    {
      "cell_type": "markdown",
      "metadata": {
        "id": "LYyqoSMvFfzO",
        "colab_type": "text"
      },
      "source": [
        "### 문제7. 다음 코드의 실행 결과는 ?"
      ]
    },
    {
      "cell_type": "code",
      "metadata": {
        "id": "FeRplIy8FyUC",
        "colab_type": "code",
        "colab": {
          "base_uri": "https://localhost:8080/",
          "height": 34
        },
        "outputId": "2425a03f-2806-42e2-b3e4-f07e78fc3810"
      },
      "source": [
        "games = [\"A\",\"B\",\"C\"]\n",
        "\n",
        "for cnt in range(len(games)):\n",
        "    print(cnt,games[cnt], end = ',')\n"
      ],
      "execution_count": 9,
      "outputs": [
        {
          "output_type": "stream",
          "text": [
            "0 A,1 B,2 C,"
          ],
          "name": "stdout"
        }
      ]
    },
    {
      "cell_type": "markdown",
      "metadata": {
        "id": "UnW8Dl9iGRca",
        "colab_type": "text"
      },
      "source": [
        "#### 문제풀이:\n",
        "for문을 이용한 코드이다. games라는 변수의 길이를 games안에 들어있는 각각의 변수 앞에 출력 시키고 한 항목 사이에는 그냥 띄우고, 항목과 항목 사이에는 줄바꿈없이 end 속성으로 end에 ,가 출력되도록 하였다.그래서 위와 같이 출력이 됨."
      ]
    },
    {
      "cell_type": "markdown",
      "metadata": {
        "id": "X9jg3z-IHmCC",
        "colab_type": "text"
      },
      "source": [
        "### 문제8. 다음의 결과가 출력되지 않는  것은?\n",
        "' I ate 10 apples, so i was sick for three days."
      ]
    },
    {
      "cell_type": "code",
      "metadata": {
        "id": "VBSsHo57IMj0",
        "colab_type": "code",
        "colab": {
          "base_uri": "https://localhost:8080/",
          "height": 34
        },
        "outputId": "30e56a16-ce52-4761-875e-53dfea26ec6b"
      },
      "source": [
        "number = 10\n",
        "day = \"three\"\n",
        "\"I ate {0} apples, so i was sick for {1} days.\".format(10,day)"
      ],
      "execution_count": 10,
      "outputs": [
        {
          "output_type": "execute_result",
          "data": {
            "text/plain": [
              "'I ate 10 apples, so i was sick for three days.'"
            ]
          },
          "metadata": {
            "tags": []
          },
          "execution_count": 10
        }
      ]
    },
    {
      "cell_type": "markdown",
      "metadata": {
        "id": "oCFncvD2JRil",
        "colab_type": "text"
      },
      "source": [
        "#### 문제풀이:\n",
        "format함수를 사용한 포매팅으로 숫자를 바로 대입한 것이다. 그래서 보기와 같이 출력됨."
      ]
    },
    {
      "cell_type": "code",
      "metadata": {
        "id": "oQlpga76JjoD",
        "colab_type": "code",
        "colab": {
          "base_uri": "https://localhost:8080/",
          "height": 34
        },
        "outputId": "e571d6f0-eb10-4814-b1b3-164cee8ead79"
      },
      "source": [
        "number = 10\n",
        "day = \"three\"\n",
        "f\"I ate {number} apples, so i was sick for {'three'} days.\""
      ],
      "execution_count": 12,
      "outputs": [
        {
          "output_type": "execute_result",
          "data": {
            "text/plain": [
              "'I ate 10 apples, so i was sick for three days.'"
            ]
          },
          "metadata": {
            "tags": []
          },
          "execution_count": 12
        }
      ]
    },
    {
      "cell_type": "markdown",
      "metadata": {
        "id": "0lE8jMUVKAzt",
        "colab_type": "text"
      },
      "source": [
        "#### 문제풀이:\n",
        "f문자열 포매팅을 사용한 코드로 문자열 앞에 f접두사를 붙이면 f문자열 포매팅 기능을 사용할 수 있다. 그래서 보기와 같이 출력됨."
      ]
    },
    {
      "cell_type": "code",
      "metadata": {
        "id": "Epf7CapZKYo_",
        "colab_type": "code",
        "colab": {
          "base_uri": "https://localhost:8080/",
          "height": 34
        },
        "outputId": "bb2e26c0-3a1c-4e32-dce0-8d26e550fb06"
      },
      "source": [
        "number = 10\n",
        "day = \"three\"\n",
        "f\"I ate {number} apples, so i was sick for {day} days.\""
      ],
      "execution_count": 13,
      "outputs": [
        {
          "output_type": "execute_result",
          "data": {
            "text/plain": [
              "'I ate 10 apples, so i was sick for three days.'"
            ]
          },
          "metadata": {
            "tags": []
          },
          "execution_count": 13
        }
      ]
    },
    {
      "cell_type": "markdown",
      "metadata": {
        "id": "OT4ZAjJEKjGJ",
        "colab_type": "text"
      },
      "source": [
        "#### 문제풀이:\n",
        "이것 또한 f문자열 포매팅을 사용한 코드이다. 그래서 보기와 같이 출력됨."
      ]
    },
    {
      "cell_type": "code",
      "metadata": {
        "id": "5P_m84dyK0Ct",
        "colab_type": "code",
        "colab": {
          "base_uri": "https://localhost:8080/",
          "height": 134
        },
        "outputId": "a0d5ad26-8fcc-4c05-a53d-34bd80140bbb"
      },
      "source": [
        "number = 10\n",
        "day = \"three\"\n",
        "\"I ate {0} apples, so i was sick for {1} days.\".format(number=10,day)"
      ],
      "execution_count": 14,
      "outputs": [
        {
          "output_type": "error",
          "ename": "SyntaxError",
          "evalue": "ignored",
          "traceback": [
            "\u001b[0;36m  File \u001b[0;32m\"<ipython-input-14-27f2ec8af078>\"\u001b[0;36m, line \u001b[0;32m3\u001b[0m\n\u001b[0;31m    \"I ate {0} apples, so i was sick for {1} days.\".format(number=10,day)\u001b[0m\n\u001b[0m                                                                    ^\u001b[0m\n\u001b[0;31mSyntaxError\u001b[0m\u001b[0;31m:\u001b[0m positional argument follows keyword argument\n"
          ]
        }
      ]
    },
    {
      "cell_type": "markdown",
      "metadata": {
        "id": "Cb4Pe6FgLAxE",
        "colab_type": "text"
      },
      "source": [
        "#### 문제풀이:\n",
        "format함수를 이용한 포매팅 코드이다. 인덱스와 이름을 혼용하여 넣을려면 {}안에도 맞게 =숫자가 있을때는 이름으로 , 이름이 있으면 인덱스가 있어야 한다. 예를 들어{1}이면 format(day)이여야 하고, {number}이면  format(number=10)이여야 한다. 그래서 #### 문제풀이:\n",
        "format함수를 이용한 포매팅 코드이다. 인덱스와 이름을 혼용하여 넣을려면 {}안에도 맞게 =숫자가 있을때는 이름으로 , 이름이 있으면 인덱스가 있어야 한다. 예를 들어{1}이면 format(day)이여야 하고, {number}이면  format(number=10)이여야 한다. 그래서 위치 인수는 키워드 인수를 따르기 때문에 에러가 발생함."
      ]
    },
    {
      "cell_type": "markdown",
      "metadata": {
        "id": "HjYqPivWNJ1U",
        "colab_type": "text"
      },
      "source": [
        "### 문제9. 라스트 내포를 사용해 1부터 1000이하의 자연수 중 5의 배수의 합을 구하는 한 줄 코드를 작성하시오."
      ]
    },
    {
      "cell_type": "code",
      "metadata": {
        "id": "5E_-qCoPNaoA",
        "colab_type": "code",
        "colab": {
          "base_uri": "https://localhost:8080/",
          "height": 34
        },
        "outputId": "2fa188c8-a554-4832-c42c-be70c7d405b2"
      },
      "source": [
        "sum([num for num in range(1,1001) if num % 5 ==0])\n"
      ],
      "execution_count": 19,
      "outputs": [
        {
          "output_type": "execute_result",
          "data": {
            "text/plain": [
              "100500"
            ]
          },
          "metadata": {
            "tags": []
          },
          "execution_count": 19
        }
      ]
    },
    {
      "cell_type": "markdown",
      "metadata": {
        "id": "ukSb5lQNOXqs",
        "colab_type": "text"
      },
      "source": [
        "#### 문제풀이:\n",
        "sum은 숫자를 더하는 함수이고, 거기에 for문을 이용하여 5로 나누었을 때 0으로 딱 떨어지는 숫자만 더하도록 코드를 만들었다. 그래서 위와 같은 결과가 나옴."
      ]
    },
    {
      "cell_type": "markdown",
      "metadata": {
        "id": "xZX26QikOuuX",
        "colab_type": "text"
      },
      "source": [
        "### 문제10. 4개의 과목의 평균 성적을 구하시오.\n"
      ]
    },
    {
      "cell_type": "code",
      "metadata": {
        "id": "-0rS_JMgOues",
        "colab_type": "code",
        "colab": {
          "base_uri": "https://localhost:8080/",
          "height": 105
        },
        "outputId": "a0915895-44ad-42a8-f389-6712adf2e24c"
      },
      "source": [
        "subjects =  ['python','english','math','science']\n",
        "scores = [88,77,66,95]\n",
        "total= 0\n",
        "\n",
        "for subject, score in zip(subjects, scores):\n",
        "    total +=  score\n",
        "    print(subject, score)\n",
        "\n",
        "print(\"평균 점수 = {0}\".format(total/len(subjects)))"
      ],
      "execution_count": 23,
      "outputs": [
        {
          "output_type": "stream",
          "text": [
            "python 88\n",
            "english 77\n",
            "math 66\n",
            "science 95\n",
            "평균 점수 = 81.5\n"
          ],
          "name": "stdout"
        }
      ]
    },
    {
      "cell_type": "markdown",
      "metadata": {
        "id": "ou4duS9IQ1yf",
        "colab_type": "text"
      },
      "source": [
        "#### 문제풀이:\n",
        "socre에 따로 position을 하지 않았으니 함수 zip를 썼을 것이고, 평균을 구해야 하니까 format함수를 이용하여 전체 더한 점수에서 과목 길이 만큼을 나눈 것이다. 그래서[a]= zip이고,[b] = .format(total/len(subjects)) 가 됨.\n"
      ]
    },
    {
      "cell_type": "markdown",
      "metadata": {
        "id": "F9vmc9aUxJlF",
        "colab_type": "text"
      },
      "source": [
        ""
      ]
    }
  ]
}