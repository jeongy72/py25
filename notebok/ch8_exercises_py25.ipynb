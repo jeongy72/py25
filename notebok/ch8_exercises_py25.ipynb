{
  "nbformat": 4,
  "nbformat_minor": 0,
  "metadata": {
    "colab": {
      "name": "ch8_exercises_py25.ipynb",
      "provenance": [],
      "collapsed_sections": [],
      "include_colab_link": true
    },
    "kernelspec": {
      "name": "python3",
      "display_name": "Python 3"
    }
  },
  "cells": [
    {
      "cell_type": "markdown",
      "metadata": {
        "id": "view-in-github",
        "colab_type": "text"
      },
      "source": [
        "<a href=\"https://colab.research.google.com/github/jeongy72/py25/blob/master/notebok/ch8_exercises_py25.ipynb\" target=\"_parent\"><img src=\"https://colab.research.google.com/assets/colab-badge.svg\" alt=\"Open In Colab\"/></a>"
      ]
    },
    {
      "cell_type": "markdown",
      "metadata": {
        "id": "ovY5jkD5dpxE",
        "colab_type": "text"
      },
      "source": [
        "# ch8_exercises_py25.ipynb"
      ]
    },
    {
      "cell_type": "markdown",
      "metadata": {
        "id": "SZw6UnxQWYBe",
        "colab_type": "text"
      },
      "source": [
        "Q1. 문자열 바꾸기\n",
        "> 다음과 같은 문자열이 있다.\n",
        "\n",
        "```\n",
        "a:b:c:d\n",
        "```\n",
        "\n",
        "> 문자열의 split와 join 함수를 사용하여 위 문자열을 다음과 같이 고치시오.\n",
        "\n",
        "```\n",
        "a#b#c#d\n",
        "```\n"
      ]
    },
    {
      "cell_type": "code",
      "metadata": {
        "id": "rUNNaqJPdg7B",
        "colab_type": "code",
        "colab": {
          "base_uri": "https://localhost:8080/",
          "height": 34
        },
        "outputId": "9e5abbf7-34ca-4179-ac8f-8b4ae58ddbba"
      },
      "source": [
        "# [Q1] Code-1   \n",
        "a = \"a:b:c:d\"\n",
        "b = a.split(\":\")\n",
        "b\n",
        "c = \"#\".join(b)\n",
        "c"
      ],
      "execution_count": null,
      "outputs": [
        {
          "output_type": "execute_result",
          "data": {
            "text/plain": [
              "'a#b#c#d'"
            ]
          },
          "metadata": {
            "tags": []
          },
          "execution_count": 8
        }
      ]
    },
    {
      "cell_type": "markdown",
      "metadata": {
        "id": "RehuSUlmQTWA",
        "colab_type": "text"
      },
      "source": [
        "- 위의 코드는 문제와 같이 split와 join을 사용하여 해결하였다.\n",
        "  split는 괄호안에 특정 값이 있으면 값을 구분자로 해서 문자열을 나누어 준다.     나뉜 문자열에 join을 이용하여 (#)이라는 문자열을 삽입하였다."
      ]
    },
    {
      "cell_type": "code",
      "metadata": {
        "colab_type": "code",
        "id": "x0OIIHRmDwtd",
        "colab": {
          "base_uri": "https://localhost:8080/",
          "height": 34
        },
        "outputId": "ddf5179d-088f-4f2e-9e42-cae336400eb8"
      },
      "source": [
        "# [Q1] Code-2\n",
        "a = \"a:b:c:d\"\n",
        "b = a.replace(\":\",\"#\")\n",
        "print(b)\n"
      ],
      "execution_count": null,
      "outputs": [
        {
          "output_type": "stream",
          "text": [
            "a#b#c#d\n"
          ],
          "name": "stdout"
        }
      ]
    },
    {
      "cell_type": "markdown",
      "metadata": {
        "id": "ITSLgysARLxL",
        "colab_type": "text"
      },
      "source": [
        "- 위의 코드는 문제와는 다르게 replace를 이용하여 해결하였다. \n",
        "  (:) 이라는 문자열을 (#) 으로 바꾸었다."
      ]
    },
    {
      "cell_type": "markdown",
      "metadata": {
        "colab_type": "text",
        "id": "re2-XrUYXF1m"
      },
      "source": [
        "## Q2. 딕셔너리 값 추출하기\n",
        "> 다음은 딕셔너리의 a에서 'C'라는 key에 해당하는 value를 출력하는 프로그램이다.\n",
        "```\n",
        ">>> a = {'A':90, 'B':80}\n",
        ">>> a['C']\n",
        "Traceback (most recent call last):\n",
        "  File \"<stdin>\", line 1, in <module>\n",
        "KeyError: 'C'\n",
        "```\n",
        ">> a 딕셔너리에는 'C'라는 key가 없으므로 위와 같은 오류가 발생한다.  \n",
        ">>'C'에 해당하는 key 값이 없을 경우 오류 대신 70을 얻을 수 있도록 수정하시오."
      ]
    },
    {
      "cell_type": "code",
      "metadata": {
        "colab_type": "code",
        "id": "5MBLUZ5WXF1q",
        "colab": {
          "base_uri": "https://localhost:8080/",
          "height": 34
        },
        "outputId": "37261909-67dc-46f6-f879-9d6b3637e1b5"
      },
      "source": [
        "# [Q2] Code-1\n",
        "a = {'A':90, 'B':80}\n",
        "a.get('C',70)\n"
      ],
      "execution_count": null,
      "outputs": [
        {
          "output_type": "execute_result",
          "data": {
            "text/plain": [
              "70"
            ]
          },
          "metadata": {
            "tags": []
          },
          "execution_count": 14
        }
      ]
    },
    {
      "cell_type": "markdown",
      "metadata": {
        "id": "-Q1zd_BMSi5z",
        "colab_type": "text"
      },
      "source": [
        "- C에 해당되는 key가 없기 때문에 다폴트 값으로 전달된 70을 돌려주었다."
      ]
    },
    {
      "cell_type": "code",
      "metadata": {
        "colab_type": "code",
        "id": "viVk7IDSEQZX",
        "colab": {
          "base_uri": "https://localhost:8080/",
          "height": 34
        },
        "outputId": "76c8d2fe-c8be-4cfd-b8cb-cbeaef4e2636"
      },
      "source": [
        "# [Q2] Code-2\n",
        "a = {'A':90, 'B':80, 'C':70}\n",
        "a['C']\n"
      ],
      "execution_count": null,
      "outputs": [
        {
          "output_type": "execute_result",
          "data": {
            "text/plain": [
              "70"
            ]
          },
          "metadata": {
            "tags": []
          },
          "execution_count": 15
        }
      ]
    },
    {
      "cell_type": "markdown",
      "metadata": {
        "id": "GeKH8VKSTWIa",
        "colab_type": "text"
      },
      "source": [
        "- key가 'C'인 딕셔너리의 Value를 반환하였다."
      ]
    },
    {
      "cell_type": "markdown",
      "metadata": {
        "colab_type": "text",
        "id": "UZy8lu_BXGnT"
      },
      "source": [
        "## Q3. 리스트의 더하기와 extend 함수\n",
        "> 다음과 같은 리스트 a가 있다.\n",
        "```\n",
        "a = [1, 2, 3]\n",
        "```\n",
        "> 리스트 a에 [4, 5]를 + 기호를 사용하여 더한 결과는 다음과 같다.\n",
        "```\n",
        ">>> a = [1, 2, 3]\n",
        ">>> a = a + [4,5]\n",
        ">>> a\n",
        "[1, 2, 3, 4, 5]\n",
        "```\n",
        "> 리스트 a에 [4,5]를 extend를 사용하여 더한 결과는 다음과 같다.\n",
        "```\n",
        ">>> a = [1, 2, 3]\n",
        ">>> a.extend([4, 5])\n",
        ">>> a\n",
        "[1, 2, 3, 4, 5]\n",
        "```\n",
        "\n",
        "> ### + 기호를 사용하여 더한 것과 extend한 것의 차이점이 있을까? 있다면 그 차이점을 설명하시오."
      ]
    },
    {
      "cell_type": "markdown",
      "metadata": {
        "id": "woQzRR4pI0ce",
        "colab_type": "text"
      },
      "source": [
        "- 리스트 a에 + 기호를 사용하는 경우"
      ]
    },
    {
      "cell_type": "code",
      "metadata": {
        "colab_type": "code",
        "id": "H9T_sXHzXGnW",
        "colab": {
          "base_uri": "https://localhost:8080/",
          "height": 34
        },
        "outputId": "485ad9bb-5bbc-4164-9dff-fbf4c27adba2"
      },
      "source": [
        "# [Q3] Explain (코드와 주석으로 설명하시오)\n",
        "a = [1,2,3]        \n",
        "id(a)           #id함수는 입력으로 받은 리스트의 a의 주소값을 돌려준다.\n",
        "                # a라는 리스트는 밑의 결과의 주소에 저장되어있다."
      ],
      "execution_count": null,
      "outputs": [
        {
          "output_type": "execute_result",
          "data": {
            "text/plain": [
              "140530191363336"
            ]
          },
          "metadata": {
            "tags": []
          },
          "execution_count": 10
        }
      ]
    },
    {
      "cell_type": "code",
      "metadata": {
        "id": "Qhi6m6WzJfap",
        "colab_type": "code",
        "colab": {
          "base_uri": "https://localhost:8080/",
          "height": 52
        },
        "outputId": "1cc58acf-0cce-4fb2-d79f-33aaea77b70c"
      },
      "source": [
        "# [Q3] Explain (코드와 주석으로 설명하시오)\n",
        "a = a + [4,5]      # 리스트 a에 +기호를 사용하여 [4,5]리스트를 더하였다.\n",
        "print(a)\n",
        "id(a)              # id함수를 사용하여 주소값을 확인하였다."
      ],
      "execution_count": null,
      "outputs": [
        {
          "output_type": "stream",
          "text": [
            "[1, 2, 3, 4, 5]\n"
          ],
          "name": "stdout"
        },
        {
          "output_type": "execute_result",
          "data": {
            "text/plain": [
              "140530191988680"
            ]
          },
          "metadata": {
            "tags": []
          },
          "execution_count": 11
        }
      ]
    },
    {
      "cell_type": "markdown",
      "metadata": {
        "id": "0vVFrRaUJ44g",
        "colab_type": "text"
      },
      "source": [
        "- [4,5]를 더한 리스트와 더하지 않은 리스트의 주소값을 비교해보면 다른것을 확인할수있다. +를 사용하면 리스트 값이 변하는 것이 아니라 더해진 새로운 리스트가 출력된다는 것을 알수있다."
      ]
    },
    {
      "cell_type": "markdown",
      "metadata": {
        "id": "LSVogQqxKVGL",
        "colab_type": "text"
      },
      "source": [
        "- extend함수 사용"
      ]
    },
    {
      "cell_type": "code",
      "metadata": {
        "id": "kWry9ouVKRuQ",
        "colab_type": "code",
        "colab": {
          "base_uri": "https://localhost:8080/",
          "height": 34
        },
        "outputId": "44adce25-5c7e-4fb9-a789-f1adfd17ae77"
      },
      "source": [
        "# [Q3] Explain (코드와 주석으로 설명하시오)\n",
        "a = [1,2,3]\n",
        "id(a)"
      ],
      "execution_count": null,
      "outputs": [
        {
          "output_type": "execute_result",
          "data": {
            "text/plain": [
              "140530200732424"
            ]
          },
          "metadata": {
            "tags": []
          },
          "execution_count": 12
        }
      ]
    },
    {
      "cell_type": "code",
      "metadata": {
        "id": "2JLHzbkvKe2q",
        "colab_type": "code",
        "colab": {
          "base_uri": "https://localhost:8080/",
          "height": 52
        },
        "outputId": "e5e7c622-3290-42e7-cb18-eb1c15831cb7"
      },
      "source": [
        "# [Q3] Explain (코드와 주석으로 설명하시오)\n",
        "a.extend([4,5])     # extend 함수를 사용하여 [4,5]를 더해주었다.\n",
        "print(a)\n",
        "id(a)               # id함수를 사용하여 주소값을 확인하였다."
      ],
      "execution_count": null,
      "outputs": [
        {
          "output_type": "stream",
          "text": [
            "[1, 2, 3, 4, 5]\n"
          ],
          "name": "stdout"
        },
        {
          "output_type": "execute_result",
          "data": {
            "text/plain": [
              "140530200732424"
            ]
          },
          "metadata": {
            "tags": []
          },
          "execution_count": 13
        }
      ]
    },
    {
      "cell_type": "markdown",
      "metadata": {
        "id": "fk1ffm0GLCU9",
        "colab_type": "text"
      },
      "source": [
        "- [4,5]를 더한 리스트와 더하지않은 리스트의 주소값을 비교해보면 다르지 않고 두 주소값이 같다."
      ]
    },
    {
      "cell_type": "markdown",
      "metadata": {
        "colab_type": "text",
        "id": "fqypxxqTXHY7"
      },
      "source": [
        "## Q4. 리스트 총합 구하기\n",
        "> 다음은 A학급 학생의 점수를 나타내는 리스트이다. 다음 리스트에서 50점 이상 점수의 총합을 구하시오.\n",
        "```\n",
        "A = [20, 55, 67, 82, 45, 33, 90, 87, 100, 25]\n",
        "```"
      ]
    },
    {
      "cell_type": "code",
      "metadata": {
        "colab_type": "code",
        "id": "oQ5UnmayXHY-",
        "colab": {
          "base_uri": "https://localhost:8080/",
          "height": 34
        },
        "outputId": "eb262e33-2a7e-4077-89a2-b17bfa1c351f"
      },
      "source": [
        "# [Q4] Code-1\n",
        "A = [20,55,67,82,45,33,90,87,100,25]\n",
        "\n",
        "result = 0\n",
        "while A :              # A 리스트에 값이 있는 동안\n",
        "    mark = A.pop()     # A 리스트의 가장 마지막 항목을 하나씩 뽑아냄\n",
        "    if mark >= 50:     # 50점 이상의 점수만 더함\n",
        "       result += mark\n",
        "\n",
        "print(result) "
      ],
      "execution_count": null,
      "outputs": [
        {
          "output_type": "stream",
          "text": [
            "481\n"
          ],
          "name": "stdout"
        }
      ]
    },
    {
      "cell_type": "code",
      "metadata": {
        "colab_type": "code",
        "id": "pMQ1e6jpFomt",
        "colab": {
          "base_uri": "https://localhost:8080/",
          "height": 34
        },
        "outputId": "557f28c2-e266-4327-c1cd-8fd2fb7aa771"
      },
      "source": [
        "# [Q4] Code-2\n",
        "A = [20,55,67,82,45,33,90,87,100,25]\n",
        "\n",
        "result = [ +num  for num in A if num >= 50]     # for문을 이용하여 50이 넘는 숫자로 리스트를 만듬\n",
        "result\n",
        "total = 0\n",
        "for i in result:       \n",
        "    total += i        # result안의 숫자를 모두 더함\n",
        "print(total)          # 그 값을 출력함"
      ],
      "execution_count": null,
      "outputs": [
        {
          "output_type": "stream",
          "text": [
            "481\n"
          ],
          "name": "stdout"
        }
      ]
    },
    {
      "cell_type": "markdown",
      "metadata": {
        "colab_type": "text",
        "id": "NKsvciXZXIL-"
      },
      "source": [
        "## Q5. 피보나치 함수\n",
        "> 첫 번째 항의 값이 0이고 두 번째 항의 값이 1일 때, 이후에 이어지는 항은 이전의 두 항을 더한 값으로 이루어지는 수열을 피보나치 수열이라고 한다.\n",
        "```\n",
        "0, 1, 1, 2, 3, 5, 8, 13, 21, ...\n",
        "```\n",
        "> 입력을 정수 n으로 받았을 때, n 이하까지의 피보나치 수열을 출력하는 함수를 작성해 보자.\n"
      ]
    },
    {
      "cell_type": "code",
      "metadata": {
        "colab_type": "code",
        "id": "5MZQYOVjXIL_",
        "colab": {
          "base_uri": "https://localhost:8080/",
          "height": 193
        },
        "outputId": "ae605499-23af-4073-ce07-d2fb212f2a53"
      },
      "source": [
        "# [Q5] Code-1\n",
        "def fib(n):\n",
        "    if n == 0 : return 0             # n이 0일때에는 0을 반환\n",
        "    if n == 1 : return 1             # n이 1일때에는 1을 반환\n",
        "    return fib(n-2) + fib(n-1)       # n이 2이상일때는 그 이전의 두 값을 더하여 반환\n",
        "\n",
        "for i in range(10):\n",
        "    print(fib(i))\n"
      ],
      "execution_count": null,
      "outputs": [
        {
          "output_type": "stream",
          "text": [
            "0\n",
            "1\n",
            "1\n",
            "2\n",
            "3\n",
            "5\n",
            "8\n",
            "13\n",
            "21\n",
            "34\n"
          ],
          "name": "stdout"
        }
      ]
    },
    {
      "cell_type": "code",
      "metadata": {
        "colab_type": "code",
        "id": "JH2Rm_TkF_eu",
        "colab": {
          "base_uri": "https://localhost:8080/",
          "height": 193
        },
        "outputId": "877ce51f-ea0e-469e-c19e-28d49aa227d3"
      },
      "source": [
        "# [Q5] Code-2\n",
        "def fibo(n):\n",
        "    if n < 2:                   # if문으로 n이 2보다 작을때 n이 반환되도록 조건을 함\n",
        "       return n\n",
        "\n",
        "    a,b = 0,1                  # a,b는 1로 정의함\n",
        "    for i in range(n-1):       # for문으로 활용하여 반복문\n",
        "        a,b = b, a+b           # a,b는 b , a+b 시행\n",
        "\n",
        "    return b                   # b로 반환되도록 함\n",
        "\n",
        "for n in range(0,10):         # 1부터10까지라고 범위를 정의함\n",
        "    print( fibo(n))           # 결과를 출력함"
      ],
      "execution_count": null,
      "outputs": [
        {
          "output_type": "stream",
          "text": [
            "0\n",
            "1\n",
            "1\n",
            "2\n",
            "3\n",
            "5\n",
            "8\n",
            "13\n",
            "21\n",
            "34\n"
          ],
          "name": "stdout"
        }
      ]
    },
    {
      "cell_type": "markdown",
      "metadata": {
        "colab_type": "text",
        "id": "-3KHtOOoXJBV"
      },
      "source": [
        "## Q6. 숫자의 총합 구하기\n",
        "> 사용자로부터 다음과 같은 숫자를 입력받아 입력받은 숫자의 총합을 구하는 프로그램을 작성하시오. (단 숫자는 콤마로 구분하여 입력한다.)\n",
        "\n",
        "```\n",
        "65,45,2,3,45,8\n",
        "```\n"
      ]
    },
    {
      "cell_type": "code",
      "metadata": {
        "id": "Q7Ou0BuQ1cOO",
        "colab_type": "code",
        "colab": {
          "base_uri": "https://localhost:8080/",
          "height": 52
        },
        "outputId": "0a961331-0bfe-48c7-b8ca-655776b3c6fb"
      },
      "source": [
        "# [Q6] Code-1\n",
        "user_input = input(\"숫자를 입력하세요: \")\n",
        "numbers = user_input.split(\",\")\n",
        "total = 0\n",
        "for n in numbers:\n",
        "    total += int(n)      #입력은 문자열이므로 숫자로 변환해야함\n",
        "print(total)"
      ],
      "execution_count": 1,
      "outputs": [
        {
          "output_type": "stream",
          "text": [
            "숫자를 입력하세요: 65,45,2,3,45,8\n",
            "168\n"
          ],
          "name": "stdout"
        }
      ]
    },
    {
      "cell_type": "code",
      "metadata": {
        "id": "NvcH7DEQ1iGV",
        "colab_type": "code",
        "colab": {
          "base_uri": "https://localhost:8080/",
          "height": 52
        },
        "outputId": "3053ff51-b4d0-4f40-9438-fe71b31630de"
      },
      "source": [
        "user_input = input(\"숫자를 입력하세요: \")\n",
        "numbers = user_input.split(\",\")\n",
        "def add_many(*args):     #add_many로 여러개의 입력값을 받는 함수를 만듬\n",
        "    result = 0\n",
        "    for i in args:\n",
        "        result = result + i    # *args에 입력받은 모든값을 더함\n",
        "    return result\n",
        "result = add_many(65,45,2,3,45,8)    #add_many함수의 결과값을 result변수에 대입\n",
        "print(result)"
      ],
      "execution_count": 8,
      "outputs": [
        {
          "output_type": "stream",
          "text": [
            "숫자를 입력하세요: 65,3,2,45,45,8\n",
            "168\n"
          ],
          "name": "stdout"
        }
      ]
    },
    {
      "cell_type": "markdown",
      "metadata": {
        "colab_type": "text",
        "id": "CiMJjZQ_GdyV"
      },
      "source": [
        "## Q7. 한 줄 구구단\n",
        "> 사용자로부터 2~9의 숫자 중 하나를 입력받아 해당 숫자의 구구단을 한 줄로 출력하는 프로그램을 작성하시오.\n",
        "\n",
        "> 실행 예)\n",
        "```\n",
        "구구단을 출력할 숫자를 입력하세요(2~9): 2\n",
        "2 4 6 8 10 12 14 16 18\n",
        "```\n"
      ]
    },
    {
      "cell_type": "code",
      "metadata": {
        "colab_type": "code",
        "id": "_8TQZNIwGdyo",
        "colab": {
          "base_uri": "https://localhost:8080/",
          "height": 52
        },
        "outputId": "e58cc0a1-1c7f-46a5-ba6b-f2880c3c8637"
      },
      "source": [
        "# [Q7] Code-1\n",
        "user_input = input(\"구구단을 출력할 숫자를 입력하세요(2~9):\")\n",
        "dan = int(user_input)            # 입력 문자열을 숫자로 변환\n",
        "for i in range(1,10):            \n",
        "    print(i*dan, end= ' ')       # 한 줄로 출력하기 위해 줄 바꿈 문자 대신 공백 문자를 마지막에 출력함"
      ],
      "execution_count": 4,
      "outputs": [
        {
          "output_type": "stream",
          "text": [
            "구구단을 출력할 숫자를 입력하세요(2~9):2\n",
            "2 4 6 8 10 12 14 16 18 "
          ],
          "name": "stdout"
        }
      ]
    },
    {
      "cell_type": "code",
      "metadata": {
        "colab_type": "code",
        "id": "HRX-wvenGdyx",
        "colab": {
          "base_uri": "https://localhost:8080/",
          "height": 193
        },
        "outputId": "14f759e5-4dcc-49dc-db25-47d28419b3ea"
      },
      "source": [
        "# [Q7] Code-2\n",
        "dan = int(input(\"구구단을 출력할 숫자를 입력하세요(2~9): \"))\n",
        "if dan <= 10 and dan >= 1:      #조건문으로 입력받는 수의 범위를 정함\n",
        "    for i in range(1, 10):     \n",
        "        print(\"{} * {} = {}\".format(dan, i, dan*i))      #범위내에 수가 입력되면 출력됨\n",
        "else:\n",
        "    print(\"1~9 범위의 정수를 입력해주세요\")              # 그렇지않으면 경고창을 띄움\n"
      ],
      "execution_count": 17,
      "outputs": [
        {
          "output_type": "stream",
          "text": [
            "구구단을 출력할 숫자를 입력하세요(2~9): 2\n",
            "2 * 1 = 2\n",
            "2 * 2 = 4\n",
            "2 * 3 = 6\n",
            "2 * 4 = 8\n",
            "2 * 5 = 10\n",
            "2 * 6 = 12\n",
            "2 * 7 = 14\n",
            "2 * 8 = 16\n",
            "2 * 9 = 18\n"
          ],
          "name": "stdout"
        }
      ]
    },
    {
      "cell_type": "markdown",
      "metadata": {
        "colab_type": "text",
        "id": "YrS3b88QbmKo"
      },
      "source": [
        "## Q8. 역순 저장\n",
        "> 다음과 같은 내용의 파일 abc.txt가 있다.\n",
        "```\n",
        "AAA\n",
        "BBB\n",
        "CCC\n",
        "DDD\n",
        "EEE\n",
        "```\n",
        "> 이 파일의 내용을 다음과 같이 역순으로 바꾸어 저장하시오.\n",
        "```\n",
        "EEE\n",
        "DDD\n",
        "CCC\n",
        "BBB\n",
        "AAA\n",
        "```"
      ]
    },
    {
      "cell_type": "code",
      "metadata": {
        "colab_type": "code",
        "id": "Ll_2InMWbmKq",
        "colab": {}
      },
      "source": [
        "# [Q8] Code-1\n",
        "f = open('abc.txt','r')\n",
        "lines = f.readlines()\n",
        "f.close()\n",
        "\n",
        "lines.reverse()\n",
        "\n",
        "f = open('abc.txt','w')\n",
        "for line in lines:\n",
        "    line = line.strip()\n",
        "    f.write(line)\n",
        "    f.write('\\n')\n",
        "f.close() "
      ],
      "execution_count": 18,
      "outputs": []
    },
    {
      "cell_type": "code",
      "metadata": {
        "colab_type": "code",
        "id": "N3uG53JsHIYX",
        "colab": {}
      },
      "source": [
        "# [Q8] Code-2\n",
        "f=open('abc.txt','rb')    # 파일을 읽음\n",
        "data = f.read()\n",
        "rev_data = data[::-1]      #파일을 역순으로 나열\n",
        "e=open('abc.txt','wb')     #파일을 작성함\n",
        "e.write(rev_data)          #역순으로 작성한 파일 저장함\n",
        "e.close()                  #파일 닫음\n"
      ],
      "execution_count": 20,
      "outputs": []
    },
    {
      "cell_type": "markdown",
      "metadata": {
        "colab_type": "text",
        "id": "OcSDHHYkK6lZ"
      },
      "source": [
        "## Q9. 평균값 구하기\n",
        "> 다음과 같이 총 10줄로 이루어진 sample.txt 파일이 있다. sample.txt 파일의 숫자 값을 모두 읽어 총합과 평균 값을 구한 후 평균 값을 result.txt 파일에 쓰는 프로그램을 작성하시오.\n",
        "```\n",
        "70\n",
        "60\n",
        "55\n",
        "75\n",
        "95\n",
        "90\n",
        "80\n",
        "80\n",
        "85\n",
        "100\n",
        "```\n"
      ]
    },
    {
      "cell_type": "code",
      "metadata": {
        "colab_type": "code",
        "id": "GmaaVGqrK6le",
        "colab": {}
      },
      "source": [
        "# [Q9] Code-1\n",
        "f = open(\"sample.txt\")\n",
        "lines =  f.readlines( )        #sample.txt를 줄단위로 모두 읽음\n",
        "f.close( )\n",
        "\n",
        "total = 0\n",
        "for line in lines:\n",
        "    score = int(line)         #줄에 적힌 점수를 숫자형으로 변환\n",
        "    total += score\n",
        "average = total/len(lines)    #평균을 구함\n",
        "f = open(\"result.txt\", \"w\")   # 파일을 열어서\n",
        "f.write(str(average))         #평균을 성함\n",
        "f.close()                     #파일을 닫음"
      ],
      "execution_count": 24,
      "outputs": []
    },
    {
      "cell_type": "code",
      "metadata": {
        "colab_type": "code",
        "id": "kgMy9LVYHfRF",
        "colab": {}
      },
      "source": [
        "# [Q9] Code-2\n",
        "\n"
      ],
      "execution_count": null,
      "outputs": []
    },
    {
      "cell_type": "markdown",
      "metadata": {
        "colab_type": "text",
        "id": "anwB_DjuK60j"
      },
      "source": [
        "## Q10. 사칙연산 계산기\n",
        "> 다음과 같이 동작하는 클래스 Calculator를 작성하시오.\n",
        "```\n",
        ">>> cal1 = Calculator([1,2,3,4,5])\n",
        ">>> cal1.sum() # 합계\n",
        "15\n",
        ">>> cal1.avg() # 평균\n",
        "3.0\n",
        ">>> cal2 = Calculator([6,7,8,9,10])\n",
        ">>> cal2.sum() # 합계\n",
        "40\n",
        ">>> cal2.avg() # 평균\n",
        "8.0\n",
        "```\n"
      ]
    },
    {
      "cell_type": "code",
      "metadata": {
        "colab_type": "code",
        "id": "QJTNoSqtMrIM",
        "colab": {
          "base_uri": "https://localhost:8080/",
          "height": 87
        },
        "outputId": "bb14ce9c-17f1-45ef-f7e1-a2fe3cb1e38a"
      },
      "source": [
        "# [Q10] Code-1\n",
        "class Calculator:\n",
        "    def __init__(self, numberList):\n",
        "        self.numberList = numberList\n",
        "\n",
        "    def add(self):\n",
        "        result = 0\n",
        "        for num in self.numberList:\n",
        "            result += num\n",
        "        return result\n",
        "\n",
        "    def avg(self):\n",
        "        total = self.add()\n",
        "        return total/len(self.numberList)\n",
        "\n",
        "cal1 = Calculator([1,2,3,4,5])\n",
        "print(cal1.add())\n",
        "print(cal1.avg())\n",
        "\n",
        "cal2 = Calculator([6,7,8,9,10])\n",
        "print(cal2.add())\n",
        "print(cal2.avg())"
      ],
      "execution_count": 25,
      "outputs": [
        {
          "output_type": "stream",
          "text": [
            "15\n",
            "3.0\n",
            "40\n",
            "8.0\n"
          ],
          "name": "stdout"
        }
      ]
    },
    {
      "cell_type": "code",
      "metadata": {
        "colab_type": "code",
        "id": "91hia3WgH2gW",
        "colab": {}
      },
      "source": [
        "# [Q10] Code-2\n",
        "\n"
      ],
      "execution_count": null,
      "outputs": []
    },
    {
      "cell_type": "markdown",
      "metadata": {
        "id": "gNnjBaJvH_51",
        "colab_type": "text"
      },
      "source": [
        "\n",
        "\n",
        "---\n",
        "\n",
        "\n"
      ]
    },
    {
      "cell_type": "markdown",
      "metadata": {
        "colab_type": "text",
        "id": "8xQf6xJ4K7M_"
      },
      "source": [
        "## Q11. 모듈 사용 방법\n",
        "> ./doit 디렉터리에 mymod.py 파이썬 모듈이 있다고 가정해 보자. 명령 프롬프트 창에서 파이썬 셸을 열어 이 모듈을 import해서 사용할 수 있는 방법을 모두 기술하시오. (즉 다음과 같이 import mymod를 수행할 때 오류가 없어야 한다.)\n",
        "```\n",
        ">>> import mymod\n",
        ">>>\n",
        "```"
      ]
    },
    {
      "cell_type": "code",
      "metadata": {
        "colab_type": "code",
        "id": "4zv7LXPjJiCH",
        "colab": {
          "base_uri": "https://localhost:8080/",
          "height": 34
        },
        "outputId": "448354dd-eccf-4147-f327-819364c9d960"
      },
      "source": [
        "!mkdir doit\n",
        "# 실행 후 새로 고침!\n",
        "# mymod.py 를 업로드한다."
      ],
      "execution_count": 32,
      "outputs": [
        {
          "output_type": "stream",
          "text": [
            "mkdir: cannot create directory ‘doit’: File exists\n"
          ],
          "name": "stdout"
        }
      ]
    },
    {
      "cell_type": "code",
      "metadata": {
        "colab_type": "code",
        "id": "JA_3n4g8JiB7",
        "colab": {}
      },
      "source": [
        "!mv mymod.py ./doit\n",
        "# 실행 후 새로 고침!"
      ],
      "execution_count": 33,
      "outputs": []
    },
    {
      "cell_type": "code",
      "metadata": {
        "colab_type": "code",
        "id": "UCO7aRh5Msx6",
        "colab": {
          "base_uri": "https://localhost:8080/",
          "height": 345
        },
        "outputId": "ac78a539-a18f-47f2-b974-4abc0dd8ddd5"
      },
      "source": [
        "# [Q11] Code-1\n",
        "import sys\n",
        "sys.path.append(\"c:/doit\")\n",
        "import mymod\n"
      ],
      "execution_count": 37,
      "outputs": [
        {
          "output_type": "error",
          "ename": "ModuleNotFoundError",
          "evalue": "ignored",
          "traceback": [
            "\u001b[0;31m---------------------------------------------------------------------------\u001b[0m",
            "\u001b[0;31mModuleNotFoundError\u001b[0m                       Traceback (most recent call last)",
            "\u001b[0;32m<ipython-input-37-85cd7dfacdb3>\u001b[0m in \u001b[0;36m<module>\u001b[0;34m()\u001b[0m\n\u001b[1;32m      2\u001b[0m \u001b[0;32mimport\u001b[0m \u001b[0msys\u001b[0m\u001b[0;34m\u001b[0m\u001b[0;34m\u001b[0m\u001b[0m\n\u001b[1;32m      3\u001b[0m \u001b[0msys\u001b[0m\u001b[0;34m.\u001b[0m\u001b[0mpath\u001b[0m\u001b[0;34m.\u001b[0m\u001b[0mappend\u001b[0m\u001b[0;34m(\u001b[0m\u001b[0;34m\"c:/doit\"\u001b[0m\u001b[0;34m)\u001b[0m\u001b[0;34m\u001b[0m\u001b[0;34m\u001b[0m\u001b[0m\n\u001b[0;32m----> 4\u001b[0;31m \u001b[0;32mimport\u001b[0m \u001b[0mmymod\u001b[0m\u001b[0;34m\u001b[0m\u001b[0;34m\u001b[0m\u001b[0m\n\u001b[0m",
            "\u001b[0;31mModuleNotFoundError\u001b[0m: No module named 'mymod'",
            "",
            "\u001b[0;31m---------------------------------------------------------------------------\u001b[0;32m\nNOTE: If your import is failing due to a missing package, you can\nmanually install dependencies using either !pip or !apt.\n\nTo view examples of installing some common dependencies, click the\n\"Open Examples\" button below.\n\u001b[0;31m---------------------------------------------------------------------------\u001b[0m\n"
          ]
        }
      ]
    },
    {
      "cell_type": "code",
      "metadata": {
        "colab_type": "code",
        "id": "aX_wLb53IgUl",
        "colab": {}
      },
      "source": [
        "# [Q11] Code-2\n",
        "\n"
      ],
      "execution_count": 31,
      "outputs": []
    },
    {
      "cell_type": "markdown",
      "metadata": {
        "colab_type": "text",
        "id": "Q6QYCZ9HM3DW"
      },
      "source": [
        "## Q12. 오류와 예외 처리\n",
        "> 다음 코드의 실행 결과를 예측하고 그 이유에 대해 설명하시오.\n",
        "\n",
        "```\n",
        "result = 0\n",
        "\n",
        "try:\n",
        "    [1, 2, 3][3]\n",
        "    \"a\"+1\n",
        "    4 / 0\n",
        "except TypeError:\n",
        "    result += 1\n",
        "except ZeroDivisionError:\n",
        "    result += 2\n",
        "except IndexError:\n",
        "    result += 3\n",
        "finally:\n",
        "    result += 4\n",
        "\n",
        "print(result)\n",
        "```\n"
      ]
    },
    {
      "cell_type": "code",
      "metadata": {
        "id": "hDf0Js4KLOrl",
        "colab_type": "code",
        "colab": {}
      },
      "source": [
        "# [Q12] Explain (코드와 주석으로 설명하시오)\n",
        "result = 0      #result의 초기값을 0이다\n",
        " \n",
        "try:                 #try문안의 [1,2,3][3]이라는 문장 수행시 indexerror가 발생하여 expect index\n",
        "    [1, 2, 3][3]      # expect indexerror: 구문으로 이동하게 되어 result에3이더해져 3이된다.\n",
        "    \"a\"+1\n",
        "    4 / 0\n",
        "except TypeError:\n",
        "    result += 1\n",
        "except ZeroDivisionError:\n",
        "    result += 2\n",
        "except IndexError:\n",
        "    result += 3\n",
        "finally:                #최종적으로 finally구문이실행되어 result에4가 더해져 7이 된다.\n",
        "    result += 4\n",
        " \n",
        "print(result)          #print(result)가 수행되어 result의 최종값인 7이 출력된다.\n"
      ],
      "execution_count": null,
      "outputs": []
    },
    {
      "cell_type": "markdown",
      "metadata": {
        "colab_type": "text",
        "id": "x2IYgozSM3gd"
      },
      "source": [
        "## Q13. DashInsert 함수\n",
        "> DashInsert 함수는 숫자로 구성된 문자열을 입력받은 뒤 문자열 안에서 홀수가 연속되면 두 수 사이에 - 를 추가하고, 짝수가 연속되면 * 를 추가하는 기능을 갖고 있다. DashInsert 함수를 완성하시오.\n",
        "```\n",
        "입력 예시: 4546793\n",
        "출력 예시: 454*67-9-3\n",
        "```\n"
      ]
    },
    {
      "cell_type": "code",
      "metadata": {
        "colab_type": "code",
        "id": "FiKNOu9HM3DX",
        "colab": {
          "base_uri": "https://localhost:8080/",
          "height": 34
        },
        "outputId": "e156a03f-80d2-45d0-b9ca-fe0fc98a3d3c"
      },
      "source": [
        "# [Q13] Code-1\n",
        "data = \"4546793\"\n",
        "\n",
        "numbers = list(map(int, data))      #숫자문자열을 숫자 리스트로 변경\n",
        "result = []\n",
        "\n",
        "for i, num in enumerate(numbers):\n",
        "    result.append(str(num))\n",
        "    if i < len(numbers)-1:         #다음수가 있다면 \n",
        "       is_odd = num % 2 == 1       #현재수가 홀수\n",
        "       is_next_odd = numbers[i+1] % 2 == 1     #다음수가 홀수\n",
        "       if is_odd and is_next_odd:         #연속 홀수\n",
        "          result.append(\"-\")\n",
        "       elif not is_odd and not is_next_odd:      #연속 짝수\n",
        "            result.append(\"*\")\n",
        "\n",
        "print(\"\".join(result))\n"
      ],
      "execution_count": 41,
      "outputs": [
        {
          "output_type": "stream",
          "text": [
            "454*67-9-3\n"
          ],
          "name": "stdout"
        }
      ]
    },
    {
      "cell_type": "code",
      "metadata": {
        "colab_type": "code",
        "id": "d_hmy1RZLqBg",
        "colab": {}
      },
      "source": [
        "# [Q13] Code-2\n",
        "\n"
      ],
      "execution_count": null,
      "outputs": []
    },
    {
      "cell_type": "markdown",
      "metadata": {
        "colab_type": "text",
        "id": "HDbz71sNL2Qt"
      },
      "source": [
        "## Q14. 문자열 압축하기\n",
        "> 문자열을 입력받아 같은 문자가 연속적으로 반복되는 경우에 그 반복 횟수를 표시해 문자열을 압축하여 표시하시오.\n",
        "```\n",
        "입력 예시: aaabbcccccca\n",
        "출력 예시: a3b2c6a1\n",
        "```\n",
        "\n"
      ]
    },
    {
      "cell_type": "code",
      "metadata": {
        "colab_type": "code",
        "id": "Hs88sVjjL2Qw",
        "colab": {
          "base_uri": "https://localhost:8080/",
          "height": 34
        },
        "outputId": "52abe0a6-23e1-477d-dec6-22d0622084ba"
      },
      "source": [
        "# [Q14] Code-1\n",
        "def compress_string(s):\n",
        "    _c = \"\"\n",
        "    cnt = 0\n",
        "    result = \"\"\n",
        "    for c in s:\n",
        "        if c!=_c:\n",
        "           _c = c\n",
        "           if cnt: result += str(cnt)\n",
        "           result += c\n",
        "           cnt = 1\n",
        "        else:\n",
        "           cnt += 1\n",
        "    if cnt: result += str(cnt)\n",
        "    return result\n",
        "print (compress_string(\"aaabbcccccca\"))     #a3b2c6a1출력\n"
      ],
      "execution_count": 44,
      "outputs": [
        {
          "output_type": "stream",
          "text": [
            "a3b2c6a1\n"
          ],
          "name": "stdout"
        }
      ]
    },
    {
      "cell_type": "code",
      "metadata": {
        "colab_type": "code",
        "id": "XF4F0DW0L2Q1",
        "colab": {}
      },
      "source": [
        "# [Q14] Code-2\n",
        "\n"
      ],
      "execution_count": null,
      "outputs": []
    },
    {
      "cell_type": "markdown",
      "metadata": {
        "colab_type": "text",
        "id": "tCF274jtL3Vk"
      },
      "source": [
        "## Q15. Duplicate Numbers\n",
        "> 0 ~ 9의 문자로 된 숫자를 입력받았을 때, 이 입력값이 0 ~ 9의 모든 숫자를 각각 한 번씩만 사용한 것인지 확인하는 함수를 작성하시오.\n",
        "```\n",
        "입력 예시: 0123456789 01234 01234567890 6789012345 012322456789\n",
        "출력 예시: true false false true false\n",
        "```\n"
      ]
    },
    {
      "cell_type": "code",
      "metadata": {
        "colab_type": "code",
        "id": "3uQFw6jGL3Vm",
        "colab": {
          "base_uri": "https://localhost:8080/",
          "height": 105
        },
        "outputId": "c1243104-3a60-44ba-cb81-41bd02edbdc4"
      },
      "source": [
        "# [Q15] Code-1\n",
        "def chkDupNum(s):\n",
        "    result = []\n",
        "    for num in s:\n",
        "        if num not in result:\n",
        "            result.append(num)\n",
        "        else:\n",
        "            return False\n",
        "    return len(result) == 10\n",
        "\n",
        "print(chkDupNum(\"0123456789\"))      # True 리턴\n",
        "print(chkDupNum(\"01234\"))           # False 리턴\n",
        "print(chkDupNum(\"01234567890\"))     # False 리턴\n",
        "print(chkDupNum(\"6789012345\"))      # True 리턴\n",
        "print(chkDupNum(\"012322456789\"))    # False 리턴\n",
        "\n"
      ],
      "execution_count": 45,
      "outputs": [
        {
          "output_type": "stream",
          "text": [
            "True\n",
            "False\n",
            "False\n",
            "True\n",
            "False\n"
          ],
          "name": "stdout"
        }
      ]
    },
    {
      "cell_type": "code",
      "metadata": {
        "colab_type": "code",
        "id": "Bdt_UGgZL3Vr",
        "colab": {}
      },
      "source": [
        "# [Q15] Code-2\n",
        "\n"
      ],
      "execution_count": null,
      "outputs": []
    },
    {
      "cell_type": "markdown",
      "metadata": {
        "colab_type": "text",
        "id": "QdPWKi1gL4UE"
      },
      "source": [
        "## Q16. 모스 부호 해독\n",
        "> 문자열 형식으로 입력받은 모스 부호(dot:. dash:-)를 해독하여 영어 문장으로 출력하는 프로그램을 작성하시오.\n",
        "\n",
        "- 글자와 글자 사이는 공백 1개, 단어와 단어 사이는 공백 2개로 구분한다.\n",
        "- 예를 들어 다음 모스 부호는 \"HE SLEEPS EARLY\"로 해석해야 한다.\n",
        "```\n",
        ".... .  ... .-.. . . .--. ...  . .- .-. .-.. -.--\n",
        "```\n",
        "> 모스부호 규칙 표\n",
        "```\n",
        "문자 부호\t문자   부호\n",
        "A\t .-\t    N\t    -.\n",
        "B\t -...\tO\t    ---\n",
        "C\t -.-.\tP\t    .--.\n",
        "D\t -..\tQ\t    --.-\n",
        "E\t .\t    R\t    .-.\n",
        "F\t ..-.\tS\t    ...\n",
        "G\t --.\tT\t    -\n",
        "H\t ....\tU\t    ..-\n",
        "I\t ..\t    V\t    ...-\n",
        "J\t .---\tW\t    .--\n",
        "K\t -.-\tX\t    -..-\n",
        "L\t .-..\tY\t    -.--\n",
        "M\t --\t    Z\t    --..\n",
        "```"
      ]
    },
    {
      "cell_type": "code",
      "metadata": {
        "colab_type": "code",
        "id": "ciZbyRFrL4UF",
        "colab": {
          "base_uri": "https://localhost:8080/",
          "height": 34
        },
        "outputId": "caef6cfb-ab8e-46cc-8f09-ca99392ab8aa"
      },
      "source": [
        "# [Q16] Code-1\n",
        "dic = {\n",
        "    '.-':'A','-...':'B','-.-.':'C','-..':'D','.':'E','..-.':'F',\n",
        "    '--.':'G','....':'H','..':'I','.---':'J','-.-':'K','.-..':'L',\n",
        "    '--':'M','-.':'N','---':'O','.--.':'P','--.-':'Q','.-.':'R',\n",
        "    '...':'S','-':'T','..-':'U','...-':'V','.--':'W','-..-':'X',\n",
        "    '-.--':'Y','--..':'Z'\n",
        "}\n",
        "\n",
        "def morse(src):\n",
        "    result = []\n",
        "    for word in src.split(\"  \"):\n",
        "        for char in word.split(\" \"):\n",
        "            result.append(dic[char])\n",
        "        result.append(\" \")\n",
        "    return \"\".join(result)\n",
        "\n",
        "\n",
        "print(morse('.... .  ... .-.. . . .--. ...  . .- .-. .-.. -.--'))\n"
      ],
      "execution_count": 46,
      "outputs": [
        {
          "output_type": "stream",
          "text": [
            "HE SLEEPS EARLY \n"
          ],
          "name": "stdout"
        }
      ]
    },
    {
      "cell_type": "code",
      "metadata": {
        "colab_type": "code",
        "id": "x9-Qq3mVL4UJ",
        "colab": {}
      },
      "source": [
        "# [Q16] Code-2\n",
        "\n"
      ],
      "execution_count": null,
      "outputs": []
    },
    {
      "cell_type": "markdown",
      "metadata": {
        "id": "om4sRiRhMosn",
        "colab_type": "text"
      },
      "source": [
        "\n",
        "\n",
        "---\n",
        "\n",
        "# 다음 정규식 문제는 기말고사 후에 도전해 보세요."
      ]
    },
    {
      "cell_type": "markdown",
      "metadata": {
        "id": "nazB2KXYOm5R",
        "colab_type": "text"
      },
      "source": [
        "## Regular Expression\n",
        "- import re"
      ]
    },
    {
      "cell_type": "markdown",
      "metadata": {
        "colab_type": "text",
        "id": "AN8kEO30L5NE"
      },
      "source": [
        "## Q17. 기초 메타 문자\n",
        "> 다음 중 정규식 a[.]{3,}b과 매치되는 문자열은 무엇일까?\n",
        "\n",
        "\n",
        "```\n",
        "acccb\n",
        "a....b\n",
        "aaab\n",
        "a.cccb\n",
        "```\n"
      ]
    },
    {
      "cell_type": "code",
      "metadata": {
        "colab_type": "code",
        "id": "uKQWoUqhL5NG",
        "colab": {}
      },
      "source": [
        "# [Q17] Code\n",
        "\n"
      ],
      "execution_count": null,
      "outputs": []
    },
    {
      "cell_type": "markdown",
      "metadata": {
        "colab_type": "text",
        "id": "0dEWfwATL6DE"
      },
      "source": [
        "## Q18. 문자열 검색\n",
        "> 다음 코드의 결괏값은 무엇일까?\n",
        "\n",
        "```\n",
        ">>> import re\n",
        ">>> p = re.compile(\"[a-z]+\")\n",
        ">>> m = p.search(\"5 python\")\n",
        ">>> m.start() + m.end()\n",
        "```\n"
      ]
    },
    {
      "cell_type": "code",
      "metadata": {
        "colab_type": "code",
        "id": "Ip11Dmo7L6DH",
        "colab": {}
      },
      "source": [
        "# [Q18] Code\n",
        "\n"
      ],
      "execution_count": null,
      "outputs": []
    },
    {
      "cell_type": "markdown",
      "metadata": {
        "colab_type": "text",
        "id": "8QizaqrUL62E"
      },
      "source": [
        "## Q19. 그루핑\n",
        "> 다음과 같은 문자열에서 휴대폰 번호 뒷자리인 숫자 4개를 ####로 바꾸는 프로그램을 정규식을 사용하여 작성하시오.\n",
        "\n",
        "```\n",
        "park 010-9999-9988\n",
        "kim 010-9909-7789\n",
        "lee 010-8789-7768\n",
        "```\n"
      ]
    },
    {
      "cell_type": "code",
      "metadata": {
        "colab_type": "code",
        "id": "bfRvchIlL62H",
        "colab": {}
      },
      "source": [
        "# [Q19] Code\n",
        "\n"
      ],
      "execution_count": null,
      "outputs": []
    },
    {
      "cell_type": "markdown",
      "metadata": {
        "colab_type": "text",
        "id": "0DumiUQoL7jk"
      },
      "source": [
        "## Q20. 전방 탐색\n",
        "> 다음은 이메일 주소를 나타내는 정규식이다. 이 정규식은 park@naver.com, kim@daum.net, lee@myhome.co.kr 등과 매치된다. 긍정형 전방 탐색 기법을 사용하여 .com, .net이 아닌 이메일 주소는 제외시키는 정규식을 작성하시오.\n",
        "\n",
        "```\n",
        ".*[@].*[.].*$\n",
        "```\n"
      ]
    },
    {
      "cell_type": "code",
      "metadata": {
        "colab_type": "code",
        "id": "9S9UUOkFL7jl",
        "colab": {}
      },
      "source": [
        "# [Q20] Code\n",
        "\n"
      ],
      "execution_count": null,
      "outputs": []
    },
    {
      "cell_type": "markdown",
      "metadata": {
        "id": "2ljBDShkbqZO",
        "colab_type": "text"
      },
      "source": [
        "## 코딩 연습 결과를 github에 올리기\n",
        "> 완성된 ipython 노트북 파일을 각자의 github에 올리시오.\n",
        "\n",
        "- github 계정 만들기 (계정이 없는 학생)\n",
        "    1. github에 sign up (Google gmail 계정을 이용해서 만드시오.)\n",
        "- github에 노트 올리기\n",
        "    2. github에 각자의 id로 repo를 만드시오. (한번 만들면 계속 재사용)\n",
        "    3. github repo에 연습결과 노트를 올리시오.\n",
        "        - 제출노트: ch8_exercises_id.ipynb\n"
      ]
    },
    {
      "cell_type": "code",
      "metadata": {
        "id": "OnCR-YNCc8B6",
        "colab_type": "code",
        "colab": {}
      },
      "source": [
        ""
      ],
      "execution_count": null,
      "outputs": []
    }
  ]
}